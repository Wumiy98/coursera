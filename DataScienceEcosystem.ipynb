{
 "cells": [
  {
   "cell_type": "markdown",
   "id": "5f05d56c-a720-4148-984d-28227721a2df",
   "metadata": {},
   "source": [
    "# 2. Data Science Tools and Ecosystem"
   ]
  },
  {
   "cell_type": "markdown",
   "id": "05fa97e9-a5ae-4e31-bf28-03ed83128d48",
   "metadata": {
    "tags": []
   },
   "source": [
    "## 3.In this notebook, Data Science Tools and Ecosystem are summarized.\n"
   ]
  },
  {
   "cell_type": "markdown",
   "id": "e5e857dc-916f-498f-ba1f-93b92caa6992",
   "metadata": {},
   "source": [
    "10 **Objectives:**\n",
    "\n",
    "- List popular languages for Data Science.\n",
    "- Introduce common development environments and tools for Data Science.\n",
    "- Discuss version control and collaboration using Git and GitHub.\n",
    "- Showcase examples of data visualization and exploratory data analysis.\n",
    "- Demonstrate machine learning algorithms and their application in Data Science."
   ]
  },
  {
   "cell_type": "markdown",
   "id": "69f77a91-6e7a-47e4-8b20-52a4e83e664c",
   "metadata": {},
   "source": [
    "## 11 Author:\n",
    "wumiy"
   ]
  },
  {
   "cell_type": "markdown",
   "id": "aad65532-72ce-4a7d-a5f4-8f9d8344b8f3",
   "metadata": {},
   "source": [
    "## 4.Data Science Tools and Ecosystem\n",
    "\n",
    "Some of the popular languages that Data Scientists use are:\n",
    "\n",
    "1. Python\n",
    "2. R\n",
    "3. SQL"
   ]
  },
  {
   "cell_type": "markdown",
   "id": "e7fbbd47-ff0a-41c0-a76f-e869f1094343",
   "metadata": {},
   "source": [
    "## 5.Some of the commonly used libraries used by Data Scientists include:\n",
    "\n",
    "\n",
    "Some of the popular languages that Data Scientists use are:\n",
    "\n",
    "1. Pandas\n",
    "2. sklearn\n",
    "3. numpy"
   ]
  },
  {
   "cell_type": "markdown",
   "id": "eabc345c-cef2-43c0-8cc5-50538ceb7b67",
   "metadata": {},
   "source": [
    "## 6 Science tool\n",
    "| Data Science Tools |\n",
    "| ------------------ |\n",
    "| Jupyter Notebook   |\n",
    "| RStudio            |\n",
    "| Spyder             |"
   ]
  },
  {
   "cell_type": "markdown",
   "id": "287389eb-70b3-421c-897b-58f8345c7c2d",
   "metadata": {},
   "source": [
    "### 7. Below are a few examples of evaluating arithmetic expressions in Python"
   ]
  },
  {
   "cell_type": "markdown",
   "id": "8b19276b-cfb0-4634-aead-cefe3ffccc8d",
   "metadata": {},
   "source": [
    "### 8.This a simple arithmetic expression to mutiply then add integers"
   ]
  },
  {
   "cell_type": "code",
   "execution_count": 3,
   "id": "bf2f1509-b830-46f0-b4cd-4a1303bf1b2d",
   "metadata": {},
   "outputs": [
    {
     "data": {
      "text/plain": [
       "17"
      ]
     },
     "execution_count": 3,
     "metadata": {},
     "output_type": "execute_result"
    }
   ],
   "source": [
    "(3*4)+5"
   ]
  },
  {
   "cell_type": "markdown",
   "id": "6592113d-68ec-4d17-823c-f137a9f6a943",
   "metadata": {},
   "source": [
    "### 9. This will convert 200 minutes to hours by diving by 60"
   ]
  },
  {
   "cell_type": "code",
   "execution_count": 4,
   "id": "c6710571-946e-41d6-a87a-cf5233a35a18",
   "metadata": {},
   "outputs": [
    {
     "data": {
      "text/plain": [
       "3.3333333333333335"
      ]
     },
     "execution_count": 4,
     "metadata": {},
     "output_type": "execute_result"
    }
   ],
   "source": [
    "200/60"
   ]
  },
  {
   "cell_type": "code",
   "execution_count": null,
   "id": "64be92fe-9670-40a0-ab92-b0f02b3c3cfe",
   "metadata": {},
   "outputs": [],
   "source": []
  }
 ],
 "metadata": {
  "kernelspec": {
   "display_name": "Python",
   "language": "python",
   "name": "conda-env-python-py"
  },
  "language_info": {
   "codemirror_mode": {
    "name": "ipython",
    "version": 3
   },
   "file_extension": ".py",
   "mimetype": "text/x-python",
   "name": "python",
   "nbconvert_exporter": "python",
   "pygments_lexer": "ipython3",
   "version": "3.7.12"
  }
 },
 "nbformat": 4,
 "nbformat_minor": 5
}
